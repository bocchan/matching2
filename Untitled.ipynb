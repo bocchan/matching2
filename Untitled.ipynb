{
 "cells": [
  {
   "cell_type": "code",
   "execution_count": 2,
   "metadata": {
    "collapsed": false
   },
   "outputs": [
    {
     "name": "stdout",
     "output_type": "stream",
     "text": [
      "[1, 2]\n"
     ]
    }
   ],
   "source": [
    "list = [0,1,2]\n",
    "list.pop(0)\n",
    "print list"
   ]
  },
  {
   "cell_type": "code",
   "execution_count": 7,
   "metadata": {
    "collapsed": false
   },
   "outputs": [],
   "source": [
    "\n",
    "       \n",
    "        # Males' preference orders over females [0, 1, 2] and unmatched\n",
    "m_unmatched = 3\n",
    "m_prefs = [[0, 1, 2, m_unmatched],\n",
    "                        [2, 0, 1, m_unmatched],\n",
    "                        [1, 2, 0, m_unmatched],\n",
    "                        [2, 0, 1, m_unmatched]]\n",
    "        # Females' preference orders over males [0, 1, 2, 3] and unmatched\n",
    "f_unmatched = 4\n",
    "f_prefs = [[2, 0, 1, 3, f_unmatched],\n",
    "                        [0, 1, 2, 3, f_unmatched],\n",
    "                        [2, f_unmatched, 1, 0, 3]]"
   ]
  },
  {
   "cell_type": "code",
   "execution_count": 8,
   "metadata": {
    "collapsed": false
   },
   "outputs": [
    {
     "name": "stdout",
     "output_type": "stream",
     "text": [
      "[[3, 2, 1, 0], [3, 1, 0, 2], [3, 0, 2, 1], [3, 1, 0, 2]]\n",
      "[0, 1, 2, 3]\n",
      "3\n"
     ]
    }
   ],
   "source": [
    "\n",
    "for i in range(len(m_prefs)):\n",
    "    m_prefs[i].reverse()\n",
    "print m_prefs\n",
    "single = range(len(m_prefs))\n",
    "x = single[-1]\n",
    "print single\n",
    "print x"
   ]
  },
  {
   "cell_type": "code",
   "execution_count": 9,
   "metadata": {
    "collapsed": false
   },
   "outputs": [
    {
     "data": {
      "text/plain": [
       "[0, 1, 2, 3]"
      ]
     },
     "execution_count": 9,
     "metadata": {},
     "output_type": "execute_result"
    }
   ],
   "source": [
    "range(len(m_prefs))"
   ]
  },
  {
   "cell_type": "code",
   "execution_count": 18,
   "metadata": {
    "collapsed": false
   },
   "outputs": [
    {
     "data": {
      "text/plain": [
       "[1]"
      ]
     },
     "execution_count": 18,
     "metadata": {},
     "output_type": "execute_result"
    }
   ],
   "source": [
    "arg1 = []\n",
    "arg1.append(1)\n",
    "arg1"
   ]
  },
  {
   "cell_type": "code",
   "execution_count": 11,
   "metadata": {
    "collapsed": false
   },
   "outputs": [
    {
     "data": {
      "text/plain": [
       "[-1, -1, -1]"
      ]
     },
     "execution_count": 11,
     "metadata": {},
     "output_type": "execute_result"
    }
   ],
   "source": [
    "[-1 for z in f_prefs]"
   ]
  },
  {
   "cell_type": "code",
   "execution_count": 3,
   "metadata": {
    "collapsed": true
   },
   "outputs": [],
   "source": [
    "def deferred_acceptance(arg1, arg2):\n",
    "    import numpy as np\n",
    "    \n",
    "    single = np.argsort(arg1)\n",
    "    pair = np.argsort(arg2)\n",
    "    \n",
    "    for i in len(pair):\n",
    "        pair[i] = -1\n",
    "    \n",
    "    while len(single)>0:\n",
    "        x = single.pop()\n",
    "        y = arg1[x].pop()\n",
    "        if pair[y] != -1:\n",
    "            if arg2[y].index(pair[y]) < arg2[y].index(x):\n",
    "                single.insert(0, pair[y])\n",
    "                pair[y] = x\n",
    "            else:\n",
    "                single.insert(0, x)\n",
    "        else:\n",
    "            pair[y] = x\n",
    "     \n",
    "    arg1 = np.argsort(pair)\n",
    "    arg2 = pair"
   ]
  },
  {
   "cell_type": "code",
   "execution_count": 4,
   "metadata": {
    "collapsed": true
   },
   "outputs": [],
   "source": [
    "    def test_male_proposal(f):\n",
    "        m_matched_computed, f_matched_computed = \\\n",
    "            deferred_acceptance(self.m_prefs, self.f_prefs)\n",
    "        assert_array_equal(m_matched_computed, self.m_matched)\n",
    "        assert_array_equal(f_matched_computed, self.f_matched)"
   ]
  },
  {
   "cell_type": "code",
   "execution_count": 6,
   "metadata": {
    "collapsed": false
   },
   "outputs": [
    {
     "ename": "NameError",
     "evalue": "name 'self' is not defined",
     "output_type": "error",
     "traceback": [
      "\u001b[1;31m---------------------------------------------------------------------------\u001b[0m",
      "\u001b[1;31mNameError\u001b[0m                                 Traceback (most recent call last)",
      "\u001b[1;32m<ipython-input-6-6b539f573781>\u001b[0m in \u001b[0;36m<module>\u001b[1;34m()\u001b[0m\n\u001b[1;32m----> 1\u001b[1;33m \u001b[0mdeferred_acceptance\u001b[0m\u001b[1;33m(\u001b[0m\u001b[0mself\u001b[0m\u001b[1;33m.\u001b[0m\u001b[0mm_prefs\u001b[0m\u001b[1;33m,\u001b[0m \u001b[0mself\u001b[0m\u001b[1;33m.\u001b[0m\u001b[0mf_prefs\u001b[0m\u001b[1;33m)\u001b[0m\u001b[1;33m\u001b[0m\u001b[0m\n\u001b[0m",
      "\u001b[1;31mNameError\u001b[0m: name 'self' is not defined"
     ]
    }
   ],
   "source": [
    "deferred_acceptance(self.m_prefs, self.f_prefs)"
   ]
  },
  {
   "cell_type": "code",
   "execution_count": null,
   "metadata": {
    "collapsed": true
   },
   "outputs": [],
   "source": []
  }
 ],
 "metadata": {
  "kernelspec": {
   "display_name": "Python 2",
   "language": "python",
   "name": "python2"
  },
  "language_info": {
   "codemirror_mode": {
    "name": "ipython",
    "version": 2
   },
   "file_extension": ".py",
   "mimetype": "text/x-python",
   "name": "python",
   "nbconvert_exporter": "python",
   "pygments_lexer": "ipython2",
   "version": "2.7.9"
  }
 },
 "nbformat": 4,
 "nbformat_minor": 0
}
