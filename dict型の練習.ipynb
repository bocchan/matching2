{
 "cells": [
  {
   "cell_type": "code",
   "execution_count": 4,
   "metadata": {
    "collapsed": false
   },
   "outputs": [
    {
     "name": "stdout",
     "output_type": "stream",
     "text": [
      "{'yamada': 75, 'endou': 82}\n"
     ]
    }
   ],
   "source": [
    "#http://www.pythonweb.jp/tutorial/dictionary/より引用\n",
    "dict = {\"yamada\":75, \"endou\":82}\n",
    "print dict"
   ]
  },
  {
   "cell_type": "code",
   "execution_count": 6,
   "metadata": {
    "collapsed": false
   },
   "outputs": [
    {
     "data": {
      "text/plain": [
       "75"
      ]
     },
     "execution_count": 6,
     "metadata": {},
     "output_type": "execute_result"
    }
   ],
   "source": [
    "value = dict[\"yamada\"]\n",
    "value"
   ]
  },
  {
   "cell_type": "code",
   "execution_count": 7,
   "metadata": {
    "collapsed": false
   },
   "outputs": [
    {
     "name": "stdout",
     "output_type": "stream",
     "text": [
      "{'yamada': 78, 'endou': 82}\n"
     ]
    }
   ],
   "source": [
    "dict[\"yamada\"] = 78\n",
    "print dict"
   ]
  },
  {
   "cell_type": "code",
   "execution_count": 9,
   "metadata": {
    "collapsed": false
   },
   "outputs": [
    {
     "name": "stdout",
     "output_type": "stream",
     "text": [
      "2\n"
     ]
    }
   ],
   "source": [
    "print len(dict)"
   ]
  },
  {
   "cell_type": "code",
   "execution_count": 12,
   "metadata": {
    "collapsed": false
   },
   "outputs": [
    {
     "name": "stdout",
     "output_type": "stream",
     "text": [
      "{'tanaka': 78, 'honda': 52, 'yamada': 75, 'endou': 82}\n"
     ]
    }
   ],
   "source": [
    "dict2 = {\"yamada\":75, \"endou\":82}\n",
    "dict2.update({\"honda\":52, \"tanaka\":78})\n",
    "print dict2"
   ]
  },
  {
   "cell_type": "code",
   "execution_count": 13,
   "metadata": {
    "collapsed": false
   },
   "outputs": [
    {
     "name": "stdout",
     "output_type": "stream",
     "text": [
      "{'honda': 52, 'yamada': 75, 'endou': 92}\n"
     ]
    }
   ],
   "source": [
    "dict3 = {\"yamada\":75, \"endou\":82}\n",
    "\n",
    "dict3.update({\"honda\":52, \"endou\":92})\n",
    "print dict3   # {\"yamada\":75, \"endou\":92, \"honda\":52}"
   ]
  },
  {
   "cell_type": "code",
   "execution_count": 15,
   "metadata": {
    "collapsed": false
   },
   "outputs": [
    {
     "name": "stdout",
     "output_type": "stream",
     "text": [
      "{'yamada': 75}\n"
     ]
    }
   ],
   "source": [
    "dict4 = {\"yamada\":75, \"endou\":82}\n",
    "\n",
    "del dict4[\"endou\"]\n",
    "print dict4"
   ]
  },
  {
   "cell_type": "code",
   "execution_count": 17,
   "metadata": {
    "collapsed": false
   },
   "outputs": [
    {
     "name": "stdout",
     "output_type": "stream",
     "text": [
      "82\n"
     ]
    }
   ],
   "source": [
    "dict5 = {\"yamada\":75, \"endou\":82}\n",
    "\n",
    "val = dict5.pop(\"endou\")\n",
    "print val"
   ]
  },
  {
   "cell_type": "code",
   "execution_count": 32,
   "metadata": {
    "collapsed": false
   },
   "outputs": [
    {
     "name": "stdout",
     "output_type": "stream",
     "text": [
      "('yamada', 75)\n",
      "('endou', 82)\n"
     ]
    }
   ],
   "source": [
    "dict6 = {\"yamada\":75, \"endou\":82}\n",
    "while len(dict6) > 0:\n",
    "    tuple = dict6.popitem()\n",
    "    print tuple"
   ]
  },
  {
   "cell_type": "code",
   "execution_count": 33,
   "metadata": {
    "collapsed": false
   },
   "outputs": [
    {
     "name": "stdout",
     "output_type": "stream",
     "text": [
      "{}\n"
     ]
    }
   ],
   "source": [
    "dict7 = {\"yamada\":75, \"endou\":82}\n",
    "\n",
    "dict7.clear()\n",
    "print dict7"
   ]
  },
  {
   "cell_type": "code",
   "execution_count": 34,
   "metadata": {
    "collapsed": false
   },
   "outputs": [
    {
     "name": "stdout",
     "output_type": "stream",
     "text": [
      "True\n",
      "False\n"
     ]
    }
   ],
   "source": [
    "dict8 = {\"yamada\":75, \"endou\":82}\n",
    "\n",
    "print \"yamada\" in dict8    # True\n",
    "print \"katou\" in dict8     # False"
   ]
  },
  {
   "cell_type": "code",
   "execution_count": 35,
   "metadata": {
    "collapsed": false
   },
   "outputs": [
    {
     "name": "stdout",
     "output_type": "stream",
     "text": [
      "False\n",
      "True\n"
     ]
    }
   ],
   "source": [
    "dict = {\"yamada\":75, \"endou\":82}\n",
    "\n",
    "print dict.has_key(\"kudou\")   # False\n",
    "print dict.has_key(\"endou\")   # True"
   ]
  },
  {
   "cell_type": "code",
   "execution_count": 36,
   "metadata": {
    "collapsed": false
   },
   "outputs": [
    {
     "name": "stdout",
     "output_type": "stream",
     "text": [
      "['yamada', 'endou']\n"
     ]
    }
   ],
   "source": [
    "dict = {\"yamada\":75, \"endou\":82}\n",
    "\n",
    "list = dict.keys()\n",
    "print list"
   ]
  },
  {
   "cell_type": "code",
   "execution_count": 37,
   "metadata": {
    "collapsed": false
   },
   "outputs": [
    {
     "name": "stdout",
     "output_type": "stream",
     "text": [
      "[75, 82]\n"
     ]
    }
   ],
   "source": [
    "dict = {\"yamada\":75, \"endou\":82}\n",
    "\n",
    "list = dict.values()\n",
    "print list    # [75, 82]"
   ]
  },
  {
   "cell_type": "code",
   "execution_count": 39,
   "metadata": {
    "collapsed": false
   },
   "outputs": [
    {
     "name": "stdout",
     "output_type": "stream",
     "text": [
      "[('yamada', 75), ('endou', 82)]\n"
     ]
    }
   ],
   "source": [
    "dict = {\"yamada\":75, \"endou\":82}\n",
    "\n",
    "list = dict.items()\n",
    "print list \n",
    "#引用終わり"
   ]
  },
  {
   "cell_type": "code",
   "execution_count": 45,
   "metadata": {
    "collapsed": false
   },
   "outputs": [],
   "source": [
    "dict = {\"A\":(1,2,3),\"B\":(3,2,1), \"C\":(1,2,3)}"
   ]
  },
  {
   "cell_type": "code",
   "execution_count": null,
   "metadata": {
    "collapsed": true
   },
   "outputs": [],
   "source": []
  }
 ],
 "metadata": {
  "kernelspec": {
   "display_name": "Python 2",
   "language": "python",
   "name": "python2"
  },
  "language_info": {
   "codemirror_mode": {
    "name": "ipython",
    "version": 2
   },
   "file_extension": ".py",
   "mimetype": "text/x-python",
   "name": "python",
   "nbconvert_exporter": "python",
   "pygments_lexer": "ipython2",
   "version": "2.7.9"
  }
 },
 "nbformat": 4,
 "nbformat_minor": 0
}
