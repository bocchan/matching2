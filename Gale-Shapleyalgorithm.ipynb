{
 "cells": [
  {
   "cell_type": "code",
   "execution_count": 3,
   "metadata": {
    "collapsed": true
   },
   "outputs": [],
   "source": [
    "#http://ja.wikipedia.org/wiki/%E5%AE%89%E5%AE%9A%E7%B5%90%E5%A9%9A%E5%95%8F%E9%A1%8C\n",
    "#これが入力となる\n",
    "men = {\"こうき\":(\"るい\",\"ひとみ\",\"あい\"), \"だいき\":(\"るい\",\"あい\",\"ひとみ\"), \"ともき\":(\"あい\",\"るい\",\"ひとみ\")}\n",
    "women = {\"るい\":(\"ともき\",\"こうき\",\"だいき\"), \"ひとみ\":(\"ともき\",\"こうき\",\"だいき\"), \"あい\":(\"だいき\",\"ともき\",\"こうき\"),}\n",
    "#目標の出力は、安定マッチング（男女３組のペア）"
   ]
  },
  {
   "cell_type": "code",
   "execution_count": 5,
   "metadata": {
    "collapsed": false
   },
   "outputs": [
    {
     "data": {
      "text/plain": [
       "[[0, 1, 2, 3, 4, 5],\n",
       " [0, 1, 2, 3, 4, 5],\n",
       " [0, 1, 2, 3, 4, 5],\n",
       " [0, 1, 2, 3, 4, 5],\n",
       " [0, 1, 2, 3, 4, 5],\n",
       " [0, 1, 2, 3, 4, 5]]"
      ]
     },
     "execution_count": 5,
     "metadata": {},
     "output_type": "execute_result"
    }
   ],
   "source": [
    "N=6\n",
    "M=[[j for j in range(N)] for i in range(N)]\n",
    "M"
   ]
  },
  {
   "cell_type": "code",
   "execution_count": 17,
   "metadata": {
    "collapsed": false
   },
   "outputs": [
    {
     "name": "stdout",
     "output_type": "stream",
     "text": [
      "[[5, 0, 3, 1, 2, 4], [0, 3, 4, 5, 2, 1], [2, 0, 4, 1, 3, 5], [4, 0, 3, 2, 1, 5], [0, 1, 4, 3, 2, 5], [0, 1, 4, 3, 2, 5]]\n",
      "[[0, 2, 5, 3, 1, 4], [0, 5, 2, 1, 3, 4], [0, 2, 5, 1, 4, 3], [0, 4, 1, 3, 5, 2], [2, 0, 4, 5, 1, 3], [0, 4, 3, 5, 1, 2]]\n",
      "[[5], [0, 3], [2, 0, 4, 1, 3], [4, 0, 3, 2], [0, 1, 4, 3], [0, 1, 4]]\n",
      "[0, 3, 4, 5, 1, 2]\n"
     ]
    }
   ],
   "source": [
    "#http://skzy.hatenablog.com/entry/2013/01/26/050459\n",
    "import random\n",
    " \n",
    "N=6\n",
    " \n",
    "M=[[j for j in range(N)] for i in range(N)]\n",
    "F=[[j for j in range(N)] for i in range(N)]\n",
    "for j in range(N):\n",
    "     for i in range(N*5):\n",
    "        s=M[j][random.randint(0,N-1)]\n",
    "        M[j].remove(s)\n",
    "        M[j].append(s)\n",
    "        s=F[j][random.randint(0,N-1)]\n",
    "        F[j].remove(s)\n",
    "        F[j].append(s)\n",
    "\n",
    "print M\n",
    "print F\n",
    "\n",
    "single=[ i for i in range(N)]\n",
    "pair=[ -1 for i in range(N)]\n",
    " \n",
    "while len(single)>0:\n",
    "    x=single.pop()\n",
    "    y=M[x].pop()\n",
    "    if pair[y]!=-1:\n",
    "        if F[y].index(pair[y]) < F[y].index(x):\n",
    "            single.insert(0,pair[y])\n",
    "            pair[y]=x\n",
    "        else:\n",
    "            single.insert(0,x)\n",
    "    else:\n",
    "        pair[y]=x\n",
    "print M\n",
    "print pair"
   ]
  },
  {
   "cell_type": "code",
   "execution_count": 13,
   "metadata": {
    "collapsed": false
   },
   "outputs": [
    {
     "data": {
      "text/plain": [
       "[-1, -1, -1, -1, -1, -1]"
      ]
     },
     "execution_count": 13,
     "metadata": {},
     "output_type": "execute_result"
    }
   ],
   "source": [
    "pair=[ -1 for i in range(N)]\n",
    "pair"
   ]
  },
  {
   "cell_type": "code",
   "execution_count": 18,
   "metadata": {
    "collapsed": false
   },
   "outputs": [
    {
     "ename": "TypeError",
     "evalue": "list indices must be integers, not str",
     "output_type": "error",
     "traceback": [
      "\u001b[1;31m---------------------------------------------------------------------------\u001b[0m",
      "\u001b[1;31mTypeError\u001b[0m                                 Traceback (most recent call last)",
      "\u001b[1;32m<ipython-input-18-a8da23873c98>\u001b[0m in \u001b[0;36m<module>\u001b[1;34m()\u001b[0m\n\u001b[0;32m      7\u001b[0m \u001b[1;32mwhile\u001b[0m \u001b[0mlen\u001b[0m\u001b[1;33m(\u001b[0m\u001b[0msingle\u001b[0m\u001b[1;33m)\u001b[0m\u001b[1;33m>\u001b[0m\u001b[1;36m0\u001b[0m\u001b[1;33m:\u001b[0m\u001b[1;33m\u001b[0m\u001b[0m\n\u001b[0;32m      8\u001b[0m     \u001b[0mx\u001b[0m \u001b[1;33m=\u001b[0m \u001b[0msingle\u001b[0m\u001b[1;33m.\u001b[0m\u001b[0mpop\u001b[0m\u001b[1;33m(\u001b[0m\u001b[1;33m)\u001b[0m\u001b[1;33m\u001b[0m\u001b[0m\n\u001b[1;32m----> 9\u001b[1;33m     \u001b[0my\u001b[0m \u001b[1;33m=\u001b[0m \u001b[0mM\u001b[0m\u001b[1;33m[\u001b[0m\u001b[0mx\u001b[0m\u001b[1;33m]\u001b[0m\u001b[1;33m.\u001b[0m\u001b[0mpop\u001b[0m\u001b[1;33m(\u001b[0m\u001b[1;33m)\u001b[0m\u001b[1;33m\u001b[0m\u001b[0m\n\u001b[0m\u001b[0;32m     10\u001b[0m     \u001b[1;32mif\u001b[0m \u001b[0mpair\u001b[0m\u001b[1;33m[\u001b[0m\u001b[0my\u001b[0m\u001b[1;33m]\u001b[0m \u001b[1;33m!=\u001b[0m \u001b[1;36m1\u001b[0m\u001b[1;33m:\u001b[0m\u001b[1;33m\u001b[0m\u001b[0m\n\u001b[0;32m     11\u001b[0m         \u001b[1;32mif\u001b[0m \u001b[0mF\u001b[0m\u001b[1;33m[\u001b[0m\u001b[0my\u001b[0m\u001b[1;33m]\u001b[0m\u001b[1;33m.\u001b[0m\u001b[0mindex\u001b[0m\u001b[1;33m(\u001b[0m\u001b[0mpair\u001b[0m\u001b[1;33m[\u001b[0m\u001b[0my\u001b[0m\u001b[1;33m]\u001b[0m\u001b[1;33m)\u001b[0m \u001b[1;33m<\u001b[0m \u001b[0mF\u001b[0m\u001b[1;33m[\u001b[0m\u001b[0my\u001b[0m\u001b[1;33m]\u001b[0m\u001b[1;33m.\u001b[0m\u001b[0mindex\u001b[0m\u001b[1;33m(\u001b[0m\u001b[0mx\u001b[0m\u001b[1;33m)\u001b[0m\u001b[1;33m:\u001b[0m\u001b[1;33m\u001b[0m\u001b[0m\n",
      "\u001b[1;31mTypeError\u001b[0m: list indices must be integers, not str"
     ]
    }
   ],
   "source": [
    "men = {\"こうき\":(\"あい\",\"ひとみ\",\"るい\"), \"だいき\":(\"ひとみ\",\"あい\",\"るい\"), \"ともき\":(\"ひとみ\",\"るい\",\"あい\")}\n",
    "women = {\"るい\":(\"だいき\",\"こうき\",\"ともき\"), \"ひとみ\":(\"だいき\",\"こうき\",\"ともき\"), \"あい\":(\"こうき\",\"ともき\",\"だいき\"),}\n",
    "\n",
    "single = [\"こうき\", \"だいき\", \"ともき\"]\n",
    "pair = [1, 1, 1]\n",
    "\n",
    "while len(single)>0:\n",
    "    x = single.pop()\n",
    "    y = M[x].pop()\n",
    "    if pair[y] != 1:\n",
    "        if F[y].index(pair[y]) < F[y].index(x):\n",
    "            single.insert(0, pair[y])\n",
    "            pair[y] = x\n",
    "        else:\n",
    "            single.insert(0, x)\n",
    "    else:\n",
    "        pair[y] = x"
   ]
  },
  {
   "cell_type": "code",
   "execution_count": 1,
   "metadata": {
    "collapsed": false
   },
   "outputs": [
    {
     "name": "stdout",
     "output_type": "stream",
     "text": [
      "(1, 2)\n",
      "(2, 0)\n",
      "(0, 1)\n"
     ]
    }
   ],
   "source": [
    "\"\"\"\n",
    "引用元\n",
    "http://skzy.hatenablog.com/entry/2013/01/26/050459\n",
    "http://ja.wikipedia.org/wiki/%E5%AE%89%E5%AE%9A%E7%B5%90%E5%A9%9A%E5%95%8F%E9%A1%8C\n",
    "http://toyokeizai.net/articles/-/11584?page=2\n",
    "http://docs.python.jp/2/tutorial/datastructures.html\n",
    "\"\"\"\n",
    "#M,Fのindexが男性の名前を表し、内包されているリストが選好を表します。\n",
    "M = [[2,1,0], [1,2,0], [1,0,2]]\n",
    "F = [[1,0,2], [1,0,2], [0,2,1]]\n",
    "#Mの名前をただ定義します。\n",
    "single = [0, 1, 2]\n",
    "#女性から見た相手のリストを仮に作ります。\n",
    "pair = [-1, -1, -1]\n",
    "#アルゴリズムを実行します。\n",
    "while len(single)>0:\n",
    "    x = single.pop()\n",
    "    y = M[x].pop()\n",
    "    if pair[y] != -1:\n",
    "        if F[y].index(pair[y]) < F[y].index(x):\n",
    "            single.insert(0, pair[y])\n",
    "            pair[y] = x\n",
    "        else:\n",
    "            single.insert(0, x)\n",
    "    else:\n",
    "        pair[y] = x\n",
    "#ペア成立した組を表示します。(M,,F)の順\n",
    "for i in pair :\n",
    "    print (pair[i], i)"
   ]
  },
  {
   "cell_type": "code",
   "execution_count": 34,
   "metadata": {
    "collapsed": false
   },
   "outputs": [
    {
     "name": "stdout",
     "output_type": "stream",
     "text": [
      "(2, 1)\n",
      "(0, 2)\n",
      "(1, 0)\n"
     ]
    }
   ],
   "source": [
    "for i in pair :\n",
    "    print (i, pair[i])"
   ]
  },
  {
   "cell_type": "code",
   "execution_count": 32,
   "metadata": {
    "collapsed": false
   },
   "outputs": [
    {
     "data": {
      "text/plain": [
       "int"
      ]
     },
     "execution_count": 32,
     "metadata": {},
     "output_type": "execute_result"
    }
   ],
   "source": [
    "type(len(pair))"
   ]
  },
  {
   "cell_type": "code",
   "execution_count": 33,
   "metadata": {
    "collapsed": false
   },
   "outputs": [
    {
     "data": {
      "text/plain": [
       "list"
      ]
     },
     "execution_count": 33,
     "metadata": {},
     "output_type": "execute_result"
    }
   ],
   "source": [
    "type(range(3))"
   ]
  },
  {
   "cell_type": "code",
   "execution_count": 1,
   "metadata": {
    "collapsed": false
   },
   "outputs": [
    {
     "ename": "SyntaxError",
     "evalue": "invalid syntax (<ipython-input-1-fe01a00cd93c>, line 1)",
     "output_type": "error",
     "traceback": [
      "\u001b[1;36m  File \u001b[1;32m\"<ipython-input-1-fe01a00cd93c>\"\u001b[1;36m, line \u001b[1;32m1\u001b[0m\n\u001b[1;33m    testit 時間をはかれる\u001b[0m\n\u001b[1;37m           ^\u001b[0m\n\u001b[1;31mSyntaxError\u001b[0m\u001b[1;31m:\u001b[0m invalid syntax\n"
     ]
    }
   ],
   "source": [
    "testit 時間をはかれる"
   ]
  },
  {
   "cell_type": "code",
   "execution_count": null,
   "metadata": {
    "collapsed": true
   },
   "outputs": [],
   "source": []
  }
 ],
 "metadata": {
  "kernelspec": {
   "display_name": "Python 2",
   "language": "python",
   "name": "python2"
  },
  "language_info": {
   "codemirror_mode": {
    "name": "ipython",
    "version": 2
   },
   "file_extension": ".py",
   "mimetype": "text/x-python",
   "name": "python",
   "nbconvert_exporter": "python",
   "pygments_lexer": "ipython2",
   "version": "2.7.9"
  }
 },
 "nbformat": 4,
 "nbformat_minor": 0
}
