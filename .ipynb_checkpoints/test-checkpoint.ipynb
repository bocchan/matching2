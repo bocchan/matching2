{
 "cells": [
  {
   "cell_type": "code",
   "execution_count": 1,
   "metadata": {
    "collapsed": false,
    "scrolled": false
   },
   "outputs": [
    {
     "name": "stderr",
     "output_type": "stream",
     "text": [
      "test_matching.TestDeferredAcceptance.test_female_proposal ... ok\n",
      "test_matching.TestDeferredAcceptance.test_male_proposal ... ok\n",
      "\n",
      "----------------------------------------------------------------------\n",
      "Ran 2 tests in 0.003s\n",
      "\n",
      "OK\n"
     ]
    }
   ],
   "source": [
    "run test_matching.py"
   ]
  },
  {
   "cell_type": "code",
   "execution_count": 1,
   "metadata": {
    "collapsed": false
   },
   "outputs": [
    {
     "name": "stdout",
     "output_type": "stream",
     "text": [
      "a 0\n",
      "a 1\n",
      "c 2\n",
      "d 0\n",
      "c 0\n",
      "d 1\n",
      "a 1\n"
     ]
    },
    {
     "data": {
      "text/plain": [
       "([0, 1, 2], [0, 1, 2, 3])"
      ]
     },
     "execution_count": 1,
     "metadata": {},
     "output_type": "execute_result"
    }
   ],
   "source": [
    "import matching\n",
    "\n",
    "m_unmatched = 3\n",
    "m_prefs = [[0, 1, 2, m_unmatched],\n",
    "                [2, 0, 1, m_unmatched],\n",
    "                [1, 2, 0, m_unmatched],\n",
    "                [2, 0, 1, m_unmatched]]\n",
    "# Females' preference orders over males [0, 1, 2, 3] and unmatched\n",
    "f_unmatched = 4\n",
    "f_prefs = [[2, 0, 1, 3, f_unmatched],\n",
    "                [0, 1, 2, 3, f_unmatched],\n",
    "                [2, f_unmatched, 1, 0, 3]]\n",
    "\n",
    "matching.deferred_acceptance(f_prefs, m_prefs)"
   ]
  },
  {
   "cell_type": "code",
   "execution_count": null,
   "metadata": {
    "collapsed": true
   },
   "outputs": [],
   "source": []
  }
 ],
 "metadata": {
  "kernelspec": {
   "display_name": "Python 2",
   "language": "python",
   "name": "python2"
  },
  "language_info": {
   "codemirror_mode": {
    "name": "ipython",
    "version": 2
   },
   "file_extension": ".py",
   "mimetype": "text/x-python",
   "name": "python",
   "nbconvert_exporter": "python",
   "pygments_lexer": "ipython2",
   "version": "2.7.9"
  }
 },
 "nbformat": 4,
 "nbformat_minor": 0
}
